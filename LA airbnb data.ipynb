{
 "cells": [
  {
   "cell_type": "markdown",
   "metadata": {},
   "source": [
    "# Los Angeles Airbnb listings analysis\n",
    "In this notebook we try to understand the market of short term rentals on Airbnb.\n",
    "We will answer the following questions:\n",
    "* How is the price distributed geographically? What neighborhoods are most expensive/cheap, what neighborhoods have the biggest selection of the listings?\n",
    "* How do listings features affect the price? What are the most important features?\n",
    "* How well can we predict the price of the listing based on its features? Based on the features, can we predict the price range that the listing will most likely fit in?\n",
    "\n",
    "To answer these questions we will use the listings dataset for LA available at http://insideairbnb.com/get-the-data.html\n"
   ]
  },
  {
   "cell_type": "markdown",
   "metadata": {},
   "source": [
    "## Data overview"
   ]
  },
  {
   "cell_type": "code",
   "execution_count": 1,
   "metadata": {
    "code_folding": [
     22
    ]
   },
   "outputs": [
    {
     "name": "stdout",
     "output_type": "stream",
     "text": [
      "data shape (44504, 96)\n",
      "Index(['id', 'listing_url', 'scrape_id', 'last_scraped', 'name', 'summary',\n",
      "       'space', 'description', 'experiences_offered', 'neighborhood_overview',\n",
      "       'notes', 'transit', 'access', 'interaction', 'house_rules',\n",
      "       'thumbnail_url', 'medium_url', 'picture_url', 'xl_picture_url',\n",
      "       'host_id', 'host_url', 'host_name', 'host_since', 'host_location',\n",
      "       'host_about', 'host_response_time', 'host_response_rate',\n",
      "       'host_acceptance_rate', 'host_is_superhost', 'host_thumbnail_url',\n",
      "       'host_picture_url', 'host_neighbourhood', 'host_listings_count',\n",
      "       'host_total_listings_count', 'host_verifications',\n",
      "       'host_has_profile_pic', 'host_identity_verified', 'street',\n",
      "       'neighbourhood', 'neighbourhood_cleansed',\n",
      "       'neighbourhood_group_cleansed', 'city', 'state', 'zipcode', 'market',\n",
      "       'smart_location', 'country_code', 'country', 'latitude', 'longitude',\n",
      "       'is_location_exact', 'property_type', 'room_type', 'accommodates',\n",
      "       'bathrooms', 'bedrooms', 'beds', 'bed_type', 'amenities', 'square_feet',\n",
      "       'price', 'weekly_price', 'monthly_price', 'security_deposit',\n",
      "       'cleaning_fee', 'guests_included', 'extra_people', 'minimum_nights',\n",
      "       'maximum_nights', 'calendar_updated', 'has_availability',\n",
      "       'availability_30', 'availability_60', 'availability_90',\n",
      "       'availability_365', 'calendar_last_scraped', 'number_of_reviews',\n",
      "       'first_review', 'last_review', 'review_scores_rating',\n",
      "       'review_scores_accuracy', 'review_scores_cleanliness',\n",
      "       'review_scores_checkin', 'review_scores_communication',\n",
      "       'review_scores_location', 'review_scores_value', 'requires_license',\n",
      "       'license', 'jurisdiction_names', 'instant_bookable',\n",
      "       'is_business_travel_ready', 'cancellation_policy',\n",
      "       'require_guest_profile_picture', 'require_guest_phone_verification',\n",
      "       'calculated_host_listings_count', 'reviews_per_month'],\n",
      "      dtype='object')\n"
     ]
    }
   ],
   "source": [
    "# import libraries we will need later\n",
    "import pandas as pd\n",
    "import numpy as np\n",
    "import copy\n",
    "from sklearn.preprocessing import MinMaxScaler, RobustScaler\n",
    "from sklearn.model_selection import train_test_split\n",
    "import operator\n",
    "import matplotlib.pyplot as plt\n",
    "import geopandas as gpd\n",
    "from collections import OrderedDict\n",
    "from scipy import stats\n",
    "from gmplot import gmplot\n",
    "import requests, json, sys\n",
    "from colour import Color\n",
    "from scipy import stats\n",
    "%matplotlib inline\n",
    "coords=gpd.read_file('neighbourhoods.geojson')\n",
    "listings=pd.read_csv('listings.csv')\n",
    "def price_to_float(x):\n",
    "    if type(x) is float:\n",
    "        #return np.nan\n",
    "        return x\n",
    "    else:\n",
    "        x=x.replace(',','')\n",
    "        return float(x[1:])\n",
    "# convert the price from string to float:\n",
    "listings['price']=listings['price'].apply(price_to_float)\n",
    "# shape of the dataframe and number of missing price data\n",
    "print('data shape',listings.shape)\n",
    "print(listings.columns)\n"
   ]
  },
  {
   "cell_type": "markdown",
   "metadata": {},
   "source": [
    "Our dataset consists of 44504 data points, with 96 features with information about host, type of the room, property type, policies, amenities, location, review scores and the price.\n",
    "\n",
    "## 1. Data cleaning: \n",
    "1.1. Get rid of erroneous data entries and data with exotic property type for which we do not have enough examples."
   ]
  },
  {
   "cell_type": "code",
   "execution_count": 2,
   "metadata": {},
   "outputs": [
    {
     "name": "stdout",
     "output_type": "stream",
     "text": [
      "data shape after data cleaning: (43583, 96)\n"
     ]
    }
   ],
   "source": [
    "# Create a copy of the initial data for further reference\n",
    "initial_data=pd.read_csv('listings.csv')\n",
    "# Clean the erroneous data: listings under 15$ and entire homes under 50$: Manual check shows that most \n",
    "# of such listings do not display the actual price.\n",
    "listings=listings[listings['price']>15]\n",
    "listings=listings[(listings['price']>60)|(listings['room_type']!='Entire home/apt')]\n",
    "# Another type of data that are quite different from the  rest of the data is given by rare properties type:\n",
    "# We will exclude from our analysis properties types presented by less than 10 listings.\n",
    "grouped=listings.groupby('property_type')['id'].count()\n",
    "rare_property=[p for p in listings['property_type'].unique() if grouped.loc[p]<10]\n",
    "#print(rare_property)\n",
    "listings=listings[~listings['property_type'].isin(rare_property)]\n",
    "\n",
    "print('data shape after data cleaning:', listings.shape)"
   ]
  },
  {
   "cell_type": "markdown",
   "metadata": {},
   "source": [
    "#### Data cleaning:\n",
    "1.2. Remove the columns where huge portions of data are missing, and columns that we will not use in our analysis."
   ]
  },
  {
   "cell_type": "code",
   "execution_count": 3,
   "metadata": {},
   "outputs": [
    {
     "name": "stdout",
     "output_type": "stream",
     "text": [
      "<class 'pandas.core.frame.DataFrame'>\n",
      "Int64Index: 43583 entries, 0 to 44503\n",
      "Data columns (total 96 columns):\n",
      "id                                  43583 non-null int64\n",
      "listing_url                         43583 non-null object\n",
      "scrape_id                           43583 non-null int64\n",
      "last_scraped                        43583 non-null object\n",
      "name                                43577 non-null object\n",
      "summary                             42072 non-null object\n",
      "space                               31339 non-null object\n",
      "description                         42872 non-null object\n",
      "experiences_offered                 43583 non-null object\n",
      "neighborhood_overview               27342 non-null object\n",
      "notes                               21697 non-null object\n",
      "transit                             25931 non-null object\n",
      "access                              27467 non-null object\n",
      "interaction                         26336 non-null object\n",
      "house_rules                         29735 non-null object\n",
      "thumbnail_url                       0 non-null float64\n",
      "medium_url                          0 non-null float64\n",
      "picture_url                         43583 non-null object\n",
      "xl_picture_url                      0 non-null float64\n",
      "host_id                             43583 non-null int64\n",
      "host_url                            43583 non-null object\n",
      "host_name                           43580 non-null object\n",
      "host_since                          43580 non-null object\n",
      "host_location                       43431 non-null object\n",
      "host_about                          28232 non-null object\n",
      "host_response_time                  26971 non-null object\n",
      "host_response_rate                  26971 non-null object\n",
      "host_acceptance_rate                0 non-null float64\n",
      "host_is_superhost                   43580 non-null object\n",
      "host_thumbnail_url                  43580 non-null object\n",
      "host_picture_url                    43580 non-null object\n",
      "host_neighbourhood                  35338 non-null object\n",
      "host_listings_count                 43580 non-null float64\n",
      "host_total_listings_count           43580 non-null float64\n",
      "host_verifications                  43583 non-null object\n",
      "host_has_profile_pic                43580 non-null object\n",
      "host_identity_verified              43580 non-null object\n",
      "street                              43583 non-null object\n",
      "neighbourhood                       39553 non-null object\n",
      "neighbourhood_cleansed              43583 non-null object\n",
      "neighbourhood_group_cleansed        0 non-null float64\n",
      "city                                43569 non-null object\n",
      "state                               43579 non-null object\n",
      "zipcode                             42988 non-null object\n",
      "market                              43500 non-null object\n",
      "smart_location                      43583 non-null object\n",
      "country_code                        43583 non-null object\n",
      "country                             43583 non-null object\n",
      "latitude                            43583 non-null float64\n",
      "longitude                           43583 non-null float64\n",
      "is_location_exact                   43583 non-null object\n",
      "property_type                       43583 non-null object\n",
      "room_type                           43583 non-null object\n",
      "accommodates                        43583 non-null int64\n",
      "bathrooms                           43547 non-null float64\n",
      "bedrooms                            43565 non-null float64\n",
      "beds                                43543 non-null float64\n",
      "bed_type                            43583 non-null object\n",
      "amenities                           43583 non-null object\n",
      "square_feet                         360 non-null float64\n",
      "price                               43583 non-null float64\n",
      "weekly_price                        5821 non-null object\n",
      "monthly_price                       5323 non-null object\n",
      "security_deposit                    31639 non-null object\n",
      "cleaning_fee                        36717 non-null object\n",
      "guests_included                     43583 non-null int64\n",
      "extra_people                        43583 non-null object\n",
      "minimum_nights                      43583 non-null int64\n",
      "maximum_nights                      43583 non-null int64\n",
      "calendar_updated                    43583 non-null object\n",
      "has_availability                    43583 non-null object\n",
      "availability_30                     43583 non-null int64\n",
      "availability_60                     43583 non-null int64\n",
      "availability_90                     43583 non-null int64\n",
      "availability_365                    43583 non-null int64\n",
      "calendar_last_scraped               43583 non-null object\n",
      "number_of_reviews                   43583 non-null int64\n",
      "first_review                        34490 non-null object\n",
      "last_review                         34490 non-null object\n",
      "review_scores_rating                33881 non-null float64\n",
      "review_scores_accuracy              33850 non-null float64\n",
      "review_scores_cleanliness           33850 non-null float64\n",
      "review_scores_checkin               33812 non-null float64\n",
      "review_scores_communication         33843 non-null float64\n",
      "review_scores_location              33804 non-null float64\n",
      "review_scores_value                 33794 non-null float64\n",
      "requires_license                    43583 non-null object\n",
      "license                             778 non-null object\n",
      "jurisdiction_names                  30731 non-null object\n",
      "instant_bookable                    43583 non-null object\n",
      "is_business_travel_ready            43583 non-null object\n",
      "cancellation_policy                 43583 non-null object\n",
      "require_guest_profile_picture       43583 non-null object\n",
      "require_guest_phone_verification    43583 non-null object\n",
      "calculated_host_listings_count      43583 non-null int64\n",
      "reviews_per_month                   34490 non-null float64\n",
      "dtypes: float64(22), int64(13), object(61)\n",
      "memory usage: 32.3+ MB\n",
      "None\n"
     ]
    }
   ],
   "source": [
    "# print out the information about missing data\n",
    "print(listings.info())"
   ]
  },
  {
   "cell_type": "markdown",
   "metadata": {},
   "source": [
    "Let's remove the following columns:\n",
    "- URLS and ids: 'listing_url', 'scrape_id', 'last_scraped', 'thumbnail_url','medium_url','picture_url','xl_picture_url','host_id','host_url',\n",
    "- host infromation that does not seem very important for the listing price: 'host_name','host_since','host_location','host_about','host_response_time','host_response_rate','host_acceptance_rate','host_thumbnail_url','host_picture_url','host_neighbourhood','host_listings_count','host_total_listings_count','host_verifications','host_identity_verified',\n",
    "- For the location analysis we will keep the feature 'neighbourhood_cleansed' as the most accurate one and remove all other columns that specify location: 'street','neighbourhood','neighbourhood_group_cleansed','city','state','zipcode','market','smart_location','country_code','country','latitude','longitude','is_location_exact',\n",
    "- columns where majority of data is missing: 'square_feet', 'weekly_price','monthly_price'\n",
    "- availability data(the dataset does not tell a difference between the booked dates and blacked out by host dates, thus the availability data seems misleading): 'calendar_updated','has_availability','availability_30','availability_60','availability_90','availability_365'\n",
    "- all price columns except 'price': 'security_deposit','cleaning_fee','extra_people'\n",
    "- text columns with description: 'summary','space','description','experiences_offered', 'neighborhood_overview' . Although these columns do say a great deal about a listings, we will have to use NLP models to analyze them, so we will not include this columns in our simple model."
   ]
  },
  {
   "cell_type": "code",
   "execution_count": 4,
   "metadata": {},
   "outputs": [],
   "source": [
    "#Drop the columns with missing data and columns that we will not use in our analysis:\n",
    "columns_to_drop=['listing_url','scrape_id','last_scraped','name','summary','space','description','experiences_offered', 'neighborhood_overview',\n",
    "'notes','transit','access','interaction','house_rules','thumbnail_url','medium_url','picture_url','xl_picture_url','host_id','host_url','host_name',\n",
    "'host_since','host_location','host_about','host_response_time','host_response_rate','host_acceptance_rate','host_thumbnail_url','host_picture_url',\n",
    "'host_neighbourhood','host_listings_count','host_total_listings_count','host_verifications','host_identity_verified','street','neighbourhood',\n",
    "'neighbourhood_group_cleansed','city','state','zipcode','market','smart_location','country_code','country','latitude','longitude','is_location_exact',\n",
    "'square_feet','calendar_updated','has_availability','availability_30','availability_60','availability_90','availability_365','calendar_last_scraped',\n",
    "'requires_license','license','jurisdiction_names','require_guest_profile_picture','require_guest_phone_verification','calculated_host_listings_count',\n",
    "'is_business_travel_ready','first_review','last_review','weekly_price','monthly_price','security_deposit','cleaning_fee','extra_people']\n",
    "\n",
    "listings=listings.drop(columns=columns_to_drop)"
   ]
  },
  {
   "cell_type": "code",
   "execution_count": 5,
   "metadata": {
    "code_folding": [
     2
    ]
   },
   "outputs": [],
   "source": [
    "# Convert columns with true/false values to bool:\n",
    "columns_to_bool=['host_is_superhost','host_has_profile_pic','instant_bookable']\n",
    "def tf_to_boolean(x):\n",
    "    def is_t(x):\n",
    "        if x=='t':\n",
    "            return True\n",
    "        else:\n",
    "            return False\n",
    "    x=x.apply(is_t)\n",
    "    return x\n",
    "listings.loc[:,columns_to_bool]=listings.loc[:,columns_to_bool].apply(tf_to_boolean)"
   ]
  },
  {
   "cell_type": "markdown",
   "metadata": {},
   "source": [
    "#### Data cleaning:\n",
    "1.3. Process the amenities column. This column consists of list of standard amenities items. We will split the amenities description into the lists of separate amenities. Then choose 50 most popular amenities in the listings and for each amenity add a binary feature indicating if a given listing has it."
   ]
  },
  {
   "cell_type": "code",
   "execution_count": 6,
   "metadata": {
    "code_folding": [
     2,
     11,
     22
    ]
   },
   "outputs": [],
   "source": [
    "# Let us address the amenities :\n",
    "# step 1: convert the string in the amenities column into a list of amenities\n",
    "def amenities_cleaning(x):\n",
    "    assert type(x) is str\n",
    "    x=x[1:-1]\n",
    "    x=x.replace('\"','')\n",
    "    list=x.split(',')\n",
    "    return list\n",
    "listings['amenities']=listings['amenities'].apply(amenities_cleaning)\n",
    "# step 2: Find the most popular amenities\n",
    "amenities_count={}\n",
    "for i in range(listings.shape[0]):\n",
    "    amenities=listings.iloc[i]['amenities']\n",
    "    for x in amenities:\n",
    "        if x in amenities_count.keys():\n",
    "            amenities_count[x]+=1\n",
    "        else:\n",
    "             amenities_count[x]=1\n",
    "amenities_count=OrderedDict(sorted(amenities_count.items(), key=operator.itemgetter(1),reverse=True))\n",
    "#print(amenities_count)\n",
    "# step 3: Choose 50 most popular amenities and add a dummy variable for each of the most \n",
    "# popular amenities that indicated if given listing has it\n",
    "def amenities_dummy(df,amenities):\n",
    "    for a in amenities:\n",
    "        df[a]=np.zeros(df.shape[0])\n",
    "        df[a]=df['amenities'].apply(lambda x: a in x)\n",
    "    df=df.drop(columns=['amenities'])\n",
    "    return df\n",
    "amenities=list(amenities_count.keys())[0:50]\n",
    "listings=amenities_dummy(listings,amenities)"
   ]
  },
  {
   "cell_type": "code",
   "execution_count": 7,
   "metadata": {},
   "outputs": [
    {
     "name": "stdout",
     "output_type": "stream",
     "text": [
      "<class 'pandas.core.frame.DataFrame'>\n",
      "Int64Index: 43583 entries, 0 to 44503\n",
      "Data columns (total 76 columns):\n",
      "id                                            43583 non-null int64\n",
      "host_is_superhost                             43583 non-null bool\n",
      "host_has_profile_pic                          43583 non-null bool\n",
      "neighbourhood_cleansed                        43583 non-null object\n",
      "property_type                                 43583 non-null object\n",
      "room_type                                     43583 non-null object\n",
      "accommodates                                  43583 non-null int64\n",
      "bathrooms                                     43547 non-null float64\n",
      "bedrooms                                      43565 non-null float64\n",
      "beds                                          43543 non-null float64\n",
      "bed_type                                      43583 non-null object\n",
      "price                                         43583 non-null float64\n",
      "guests_included                               43583 non-null int64\n",
      "minimum_nights                                43583 non-null int64\n",
      "maximum_nights                                43583 non-null int64\n",
      "number_of_reviews                             43583 non-null int64\n",
      "review_scores_rating                          33881 non-null float64\n",
      "review_scores_accuracy                        33850 non-null float64\n",
      "review_scores_cleanliness                     33850 non-null float64\n",
      "review_scores_checkin                         33812 non-null float64\n",
      "review_scores_communication                   33843 non-null float64\n",
      "review_scores_location                        33804 non-null float64\n",
      "review_scores_value                           33794 non-null float64\n",
      "instant_bookable                              43583 non-null bool\n",
      "cancellation_policy                           43583 non-null object\n",
      "reviews_per_month                             34490 non-null float64\n",
      "Wifi                                          43583 non-null bool\n",
      "Essentials                                    43583 non-null bool\n",
      "Smoke detector                                43583 non-null bool\n",
      "Kitchen                                       43583 non-null bool\n",
      "Heating                                       43583 non-null bool\n",
      "Hangers                                       43583 non-null bool\n",
      "TV                                            43583 non-null bool\n",
      "Shampoo                                       43583 non-null bool\n",
      "Washer                                        43583 non-null bool\n",
      "Dryer                                         43583 non-null bool\n",
      "Air conditioning                              43583 non-null bool\n",
      "Hair dryer                                    43583 non-null bool\n",
      "Laptop friendly workspace                     43583 non-null bool\n",
      "Carbon monoxide detector                      43583 non-null bool\n",
      "Iron                                          43583 non-null bool\n",
      "Free parking on premises                      43583 non-null bool\n",
      "Hot water                                     43583 non-null bool\n",
      "Fire extinguisher                             43583 non-null bool\n",
      "First aid kit                                 43583 non-null bool\n",
      "Family/kid friendly                           43583 non-null bool\n",
      "Lock on bedroom door                          43583 non-null bool\n",
      "Free street parking                           43583 non-null bool\n",
      "Refrigerator                                  43583 non-null bool\n",
      "Dishes and silverware                         43583 non-null bool\n",
      "Self check-in                                 43583 non-null bool\n",
      "Bed linens                                    43583 non-null bool\n",
      "Microwave                                     43583 non-null bool\n",
      "Cable TV                                      43583 non-null bool\n",
      "Private entrance                              43583 non-null bool\n",
      "Stove                                         43583 non-null bool\n",
      "Internet                                      43583 non-null bool\n",
      "Long term stays allowed                       43583 non-null bool\n",
      "Coffee maker                                  43583 non-null bool\n",
      "Cooking basics                                43583 non-null bool\n",
      "Oven                                          43583 non-null bool\n",
      "Step-free access                              43583 non-null bool\n",
      "Extra pillows and blankets                    43583 non-null bool\n",
      "Pool                                          43583 non-null bool\n",
      "Indoor fireplace                              43583 non-null bool\n",
      "Elevator                                      43583 non-null bool\n",
      "Luggage dropoff allowed                       43583 non-null bool\n",
      "Dishwasher                                    43583 non-null bool\n",
      "Patio or balcony                              43583 non-null bool\n",
      "Hot tub                                       43583 non-null bool\n",
      "Host greets you                               43583 non-null bool\n",
      "translation missing: en.hosting_amenity_50    43583 non-null bool\n",
      "Pets allowed                                  43583 non-null bool\n",
      "Garden or backyard                            43583 non-null bool\n",
      "Safety card                                   43583 non-null bool\n",
      "Lockbox                                       43583 non-null bool\n",
      "dtypes: bool(53), float64(12), int64(6), object(5)\n",
      "memory usage: 10.2+ MB\n",
      "None\n"
     ]
    }
   ],
   "source": [
    "# print the features after the cleaaning\n",
    "print(listings.info())"
   ]
  },
  {
   "cell_type": "markdown",
   "metadata": {},
   "source": [
    "#### Data cleaning:\n",
    "1.4. Address the missed values: Not that about 10000 data points have no information about the review scores. These are new listings with no reviews. We will introduce a new binary variable that indicates if a listing has reviews or not. This feature might be valuable for price predictions. Then fill the missing review scores with zeros. Other columns have very few missing entries, so it seems safe to fill them with zeros as well."
   ]
  },
  {
   "cell_type": "code",
   "execution_count": 8,
   "metadata": {},
   "outputs": [],
   "source": [
    "listings['has_reviews']=listings['number_of_reviews']>0\n",
    "listings=listings.fillna(0)"
   ]
  },
  {
   "cell_type": "markdown",
   "metadata": {},
   "source": [
    "## 2. Data analysis\n",
    "2.1. Overall price distribution."
   ]
  },
  {
   "cell_type": "code",
   "execution_count": 9,
   "metadata": {},
   "outputs": [
    {
     "data": {
      "image/png": "[encoded data removed]",
      "text/plain": [
       "<Figure size 432x288 with 1 Axes>"
      ]
     },
     "metadata": {},
     "output_type": "display_data"
    }
   ],
   "source": [
    "plt.hist(listings['price'],bins=100);"
   ]
  },
  {
   "cell_type": "code",
   "execution_count": 10,
   "metadata": {},
   "outputs": [
    {
     "name": "stdout",
     "output_type": "stream",
     "text": [
      "25000.0\n",
      "800.0\n"
     ]
    }
   ],
   "source": [
    "print(np.max(listings['price']))\n",
    "print(np.percentile(listings['price'],97))"
   ]
  },
  {
   "cell_type": "markdown",
   "metadata": {},
   "source": [
    "So price is havily skewed on the right. With the maximum price of 25000 97% of listings have price less than 800. The ultra-expensive listings are very rare, so let us cut the outlying 3% to get a better understanding of the biggest part of the population"
   ]
  },
  {
   "cell_type": "code",
   "execution_count": 11,
   "metadata": {},
   "outputs": [
    {
     "data": {
      "image/png": "[encoded data removed]",
      "text/plain": [
       "<Figure size 432x288 with 1 Axes>"
      ]
     },
     "metadata": {},
     "output_type": "display_data"
    }
   ],
   "source": [
    "percentile_threshold=97\n",
    "listings=listings[listings['price']<=np.percentile(listings['price'],percentile_threshold)]\n",
    "plt.title('Price distribution')\n",
    "plt.hist(listings['price'],bins=20);"
   ]
  },
  {
   "cell_type": "code",
   "execution_count": 12,
   "metadata": {},
   "outputs": [
    {
     "name": "stdout",
     "output_type": "stream",
     "text": [
      "First quartile: 70.0\n",
      "Median: 104.0\n",
      "Third quartile: 175.0\n"
     ]
    }
   ],
   "source": [
    "print('First quartile:',np.percentile(listings['price'],25))\n",
    "print('Median:',np.percentile(listings['price'],50))\n",
    "print('Third quartile:',np.percentile(listings['price'],75))"
   ]
  },
  {
   "cell_type": "code",
   "execution_count": 13,
   "metadata": {},
   "outputs": [
    {
     "name": "stdout",
     "output_type": "stream",
     "text": [
      "mean: 4.704633536214335\n",
      "standard deviation: 0.7063041571925379\n",
      "quartiles: [4.24849524 4.6443909  5.16478597]\n",
      "mode: 4.605170185988092\n",
      "percentage of data in [mu-sigma,mu+sigma] 68.94154370034052\n"
     ]
    },
    {
     "data": {
      "image/png": "[encoded data removed]",
      "text/plain": [
       "<Figure size 432x288 with 1 Axes>"
      ]
     },
     "metadata": {},
     "output_type": "display_data"
    }
   ],
   "source": [
    "# Let us see the distribution of the logarithm of the price\n",
    "plt.title('Logarithm of price distribution')\n",
    "plt.hist(np.log(listings['price']),bins=30);\n",
    "mu=np.mean(np.log(listings['price']))\n",
    "sigma=np.std(np.log(listings['price']))\n",
    "print('mean:',mu)\n",
    "print('standard deviation:',sigma)\n",
    "print('quartiles:',np.percentile(np.log(listings['price']),[25,50,75]))\n",
    "print('mode:',stats.mode(np.log(listings['price']))[0][0])\n",
    "print('percentage of data in [mu-sigma,mu+sigma]',stats.percentileofscore(np.log(listings['price']),mu+sigma)-stats.percentileofscore(np.log(listings['price']),mu-sigma))"
   ]
  },
  {
   "cell_type": "markdown",
   "metadata": {},
   "source": [
    "The logarithm of price seems to be distributed symmetrically. The spikes in the distribution seem to be caused by advertising reasons: the biggest change is at level log=4.6, corresponds to the fact that most people will advertise their place for 99\\$ rather than 101\\$, the next psychological thresholds we see at log=5, log=5.3 that correspond to the price levels of 150\\$ and 200\\$."
   ]
  },
  {
   "cell_type": "markdown",
   "metadata": {},
   "source": [
    "We see that log price distribution seems very similarr to the normal one. It is symmetric, 68% of the data have values within one standard deviation of the mean. Let us test the hypothesis that log prices are distributed normally using Pearson's $\\chi^2$-test with 20 bins. We will see that the Pearson test rejects the hypothesis:"
   ]
  },
  {
   "cell_type": "code",
   "execution_count": 14,
   "metadata": {},
   "outputs": [
    {
     "name": "stdout",
     "output_type": "stream",
     "text": [
      "chi squared statistics:  837.6449686245796 p-value:  1.670331414709071e-174\n"
     ]
    },
    {
     "data": {
      "image/png": "[encoded data removed]",
      "text/plain": [
       "<Figure size 432x288 with 1 Axes>"
      ]
     },
     "metadata": {},
     "output_type": "display_data"
    }
   ],
   "source": [
    "# number of bins:\n",
    "n=10\n",
    "# number of observations:\n",
    "N=listings['price'].shape[0]\n",
    "mu=np.mean(np.log(listings['price']))\n",
    "sigma=np.std(np.log(listings['price']))\n",
    "x=np.linspace(2.5,6.7)\n",
    "y=stats.norm.pdf(x,loc=mu,scale=sigma)\n",
    "plt.hist(np.log(listings['price']),density=True,bins=n);\n",
    "plt.plot(x,y,linewidth=3);\n",
    "# Compute the observed and expected frequencies:\n",
    "histogram,bins_boundaries=np.histogram(np.log(listings['price']),density=True,bins=n)\n",
    "bin_width=bins_boundaries[1]-bins_boundaries[0]\n",
    "observed_probabilities=histogram*bin_width\n",
    "expected_probabilities=stats.norm.cdf(bins_boundaries[1:],loc=mu,scale=sigma)-stats.norm.cdf(bins_boundaries[:-1],loc=mu,scale=sigma)\n",
    "# add the tails to the first and last bins\n",
    "expected_probabilities[0]+=stats.norm.cdf(bins_boundaries[0],loc=mu,scale=sigma) \n",
    "expected_probabilities[-1]+=1-stats.norm.cdf(bins_boundaries[-1],loc=mu,scale=sigma) \n",
    "# Compute the chi-squared statistics\n",
    "observed_frequencies=observed_probabilities*N\n",
    "expected_frequencies=expected_probabilities*N\n",
    "print('chi squared statistics: ',stats.chisquare(observed_frequencies,expected_frequencies)[0],'p-value: ',stats.chisquare(observed_frequencies,expected_frequencies)[1])\n",
    "# So chi square statistics is too high so we can not assume that distribution is normal."
   ]
  },
  {
   "cell_type": "markdown",
   "metadata": {},
   "source": [
    "So despite the fact that the log price histogram looks like a bell-shaped curves, the Pearson's test rejects the normality hypothesis. This is mainly because of the fact that we have 40000 observations. If they were distributed normally, the fit should have been much better."
   ]
  },
  {
   "cell_type": "markdown",
   "metadata": {},
   "source": [
    "### 2.2. Geographical price distribution\n",
    "We will use the gmplot package to colour each neighbourhood with respect to the average price and amount of listings of each type."
   ]
  },
  {
   "cell_type": "code",
   "execution_count": 15,
   "metadata": {},
   "outputs": [
    {
     "name": "stderr",
     "output_type": "stream",
     "text": [
      "/home/neshitov/anaconda3/lib/python3.6/site-packages/scipy/stats/stats.py:1795: RuntimeWarning: invalid value encountered in less\n",
      "  left = np.count_nonzero(a < score)\n",
      "/home/neshitov/anaconda3/lib/python3.6/site-packages/scipy/stats/stats.py:1796: RuntimeWarning: invalid value encountered in less_equal\n",
      "  right = np.count_nonzero(a <= score)\n"
     ]
    }
   ],
   "source": [
    "# create the spectrum from green to red\n",
    "number_colors=10\n",
    "colors = list(Color('green').range_to(Color('red'),number_colors))\n",
    "colors=[c.hex_l for c in colors]\n",
    "\n",
    "apikey=#google maps javascirpt api key https://developers.google.com/maps/documentation/javascript/get-api-key\n",
    "\n",
    "# create gmplot maps, one for each room_type and price/number of listings\n",
    "gmap_mean_price = gmplot.GoogleMapPlotter.from_geocode(\"Los Angeles\",apikey=apikey)\n",
    "gmap_std_price = gmplot.GoogleMapPlotter.from_geocode(\"Los Angeles\",apikey=apikey)\n",
    "gmap_count = gmplot.GoogleMapPlotter.from_geocode(\"Los Angeles\",apikey=apikey)\n",
    "\n",
    "def draw_nbd(map_name,name,rank):\n",
    "    nbd=coords[coords['neighbourhood']==name].iloc[0]\n",
    "    gg=list(nbd['geometry'])\n",
    "\n",
    "    for g in gg:\n",
    "        lon,lat=g.exterior.coords.xy\n",
    "        eval('gmap_'+map_name).polygon(lat, lon, face_alpha=0.8, color=colors[int(rank*(number_colors-1))])\n",
    "\n",
    "listings['logprice']=np.log(listings['price'])        \n",
    "mean_price=listings.groupby('neighbourhood_cleansed')['logprice'].mean()\n",
    "std_price=listings.groupby('neighbourhood_cleansed')['logprice'].std()\n",
    "counts=listings.groupby('neighbourhood_cleansed')['id'].count()\n",
    "listings=listings.drop(columns=['logprice'])\n",
    "# Reduce noise: exclude neighborhoods with less than 10 listings\n",
    "counts=counts[counts>10]\n",
    "for nbd in counts.index:\n",
    "    draw_nbd('mean_price',nbd,((stats.percentileofscore(mean_price, mean_price[nbd]))/100))\n",
    "    draw_nbd('std_price',nbd,((stats.percentileofscore(std_price, std_price[nbd]))/100))\n",
    "    draw_nbd('count',nbd,((stats.percentileofscore(counts, counts[nbd]))/100))\n",
    "gmap_mean_price.draw('gmap_mean_price.html')\n",
    "gmap_std_price.draw('gmap_std_price.html')\n",
    "gmap_count.draw('gmap_count_price.html')                     "
   ]
  },
  {
   "cell_type": "markdown",
   "metadata": {},
   "source": [
    "The following map shows the average price, standard deviation and number of listings for each of the neighborhood. All neighborhoods are colored in 10 colors with top 10% neighbourhoods are marked red and bottom 10% neighbourhoods marked green."
   ]
  },
  {
   "cell_type": "code",
   "execution_count": 16,
   "metadata": {},
   "outputs": [
    {
     "data": {
      "text/html": [
       "<!DOCTYPE html>\n",
       "<html>\n",
       "<body>\n",
       "\n",
       "<select id=\"sel1\", onchange=\"run()\">\n",
       "  <option value=\"mean\">Average price</option>\n",
       "  <option value=\"std\">Standard deviation</option>\n",
       "  <option value=\"count\">Number of listings</option>\n",
       "</select>\n",
       "<iframe id=\"map\", width=\"100%\" height=\"350\" src=\"gmap_mean_price.html\"></iframe>\n",
       "\n",
       "<script>\n",
       "function run(){\n",
       "    var ttype = document.getElementById(\"sel1\").value;\n",
       "    var nname = \"gmap_\"+ttype+\"_price.html\"\n",
       "    document.getElementById(\"map\").setAttribute(\"src\",nname)\n",
       "}\n",
       "\n",
       "</script>\n",
       "\n",
       "</body>\n",
       "</html>"
      ],
      "text/plain": [
       "<IPython.core.display.HTML object>"
      ]
     },
     "metadata": {},
     "output_type": "display_data"
    }
   ],
   "source": [
    "%%HTML\n",
    "<!DOCTYPE html>\n",
    "<html>\n",
    "<body>\n",
    "\n",
    "<select id=\"sel1\", onchange=\"run()\">\n",
    "  <option value=\"mean\">Average price</option>\n",
    "  <option value=\"std\">Standard deviation</option>\n",
    "  <option value=\"count\">Number of listings</option>\n",
    "</select>\n",
    "<iframe id=\"map\", width=\"100%\" height=\"350\" src=\"gmap_mean_price.html\"></iframe>\n",
    "\n",
    "<script>\n",
    "function run(){\n",
    "    var ttype = document.getElementById(\"sel1\").value;\n",
    "    var nname = \"gmap_\"+ttype+\"_price.html\"\n",
    "    document.getElementById(\"map\").setAttribute(\"src\",nname)\n",
    "}\n",
    "\n",
    "</script>\n",
    "\n",
    "</body>\n",
    "</html>"
   ]
  },
  {
   "cell_type": "markdown",
   "metadata": {},
   "source": [
    "**Geographical distribution:**\n",
    "So we see that on average the most expensive neighborhoods are those close to the ocean (not surprisingly)\n",
    "The biggest standard deviation (of the logarithm of the price) is in Montebello and Glendora\n",
    "The biggest amount of listings there are in Santa Monica, Hollywood, Downtown and Long Beach and Pasadena.\n"
   ]
  },
  {
   "cell_type": "markdown",
   "metadata": {},
   "source": [
    "### 2.3. How different features affect the price.\n"
   ]
  },
  {
   "cell_type": "markdown",
   "metadata": {},
   "source": [
    "#### Question1: Is it true that hosts with superhost status earn more?"
   ]
  },
  {
   "cell_type": "code",
   "execution_count": 17,
   "metadata": {},
   "outputs": [
    {
     "name": "stdout",
     "output_type": "stream",
     "text": [
      "number of superhost listings:  11155\n",
      "number of nonsuperhosts listings:  31133\n",
      "142.3976692066338 110.0 110.72070569501106\n",
      "143.68358333601003 100.0 123.87679982680676\n"
     ]
    },
    {
     "data": {
      "image/png": "[encoded data removed]",
      "text/plain": [
       "<Figure size 800x480 with 2 Axes>"
      ]
     },
     "metadata": {},
     "output_type": "display_data"
    }
   ],
   "source": [
    "listings_superhost=listings[listings['host_is_superhost']==True]\n",
    "listings_nonsuperhost=listings[listings['host_is_superhost']==False]\n",
    "print('number of superhost listings: ', listings_superhost.shape[0])\n",
    "print('number of nonsuperhosts listings: ', listings_nonsuperhost.shape[0])\n",
    "print(np.mean(listings_superhost['price']), np.median(listings_superhost['price']),np.std(listings_superhost['price']))\n",
    "print(np.mean(listings_nonsuperhost['price']),np.median(listings_nonsuperhost['price']),np.std(listings_nonsuperhost['price']))\n",
    "plt.figure(figsize=(10, 6), dpi= 80, facecolor='w', edgecolor='k')\n",
    "plt.subplot(1,2,1).set_title('superhost')\n",
    "plt.hist(listings_superhost['price'],bins=30);\n",
    "plt.subplot(1,2,2).set_title('not superhost')\n",
    "plt.hist(listings_nonsuperhost['price'],bins=30);\n",
    "plt.show()"
   ]
  },
  {
   "cell_type": "markdown",
   "metadata": {},
   "source": [
    "So we see that there is no big difference for mean, but there is some difference in the median and standard deviation. Let's use bootstrapping to construct confidence interval for the median of the superhost-listing population and non-superhost listing population. We will use the following fact (Proposition 5.1 of \"Some asymptotic theory for the bootstrap\" by Bickel and Freedman):\n",
    "if $X_1,\\ldots,X_n$ is a sequence of i.i.d random variables, $\\mu$ is the median of their common distribution, $m$ is the median of the sample $X_1,\\ldots,X_n$ and $m^*$ is the median of the bootstrap $X_1^*,\\ldots,X_n^*$ conditionally for $X_1,\\ldots,X_n$, then \n",
    "both $$\\sqrt{n}(m^*-m) \\text{ and } \\sqrt{n}(m-\\mu)$$ converge in probability to a normal distribution $N(0,\\sigma^2)$ with mean $0$ and the same variance $\\sigma^2$. Thus with 98% chance the sample median is in $[109,110]$ with 96% probability we have that the true median is in the interval $[108,111]$. With 98% probability the sample median of the non-superhost listings equals to $100$. Thus with 96% confidence we can argue that mean of superhost listings earn $8 more than the mean of non-superhost listings."
   ]
  },
  {
   "cell_type": "code",
   "execution_count": 18,
   "metadata": {},
   "outputs": [
    {
     "name": "stdout",
     "output_type": "stream",
     "text": [
      "98% confidence interval for the sample median for superhost listings [109. 110.]\n",
      "98% confidence interval for the sample median for nonsuperhost listings [100. 100.]\n"
     ]
    }
   ],
   "source": [
    "N=10000\n",
    "n=listings_superhost.shape[0]\n",
    "medians=np.zeros(N)\n",
    "for i in range(N):\n",
    "    x=np.random.choice(listings_superhost['price'],n)\n",
    "    medians[i]=np.median(x)\n",
    "print(\"98% confidence interval for the sample median for superhost listings\",np.percentile(medians,[1,99]))\n",
    "\n",
    "n=listings_nonsuperhost.shape[0]\n",
    "medians=np.zeros(N)\n",
    "for i in range(N):\n",
    "    x=np.random.choice(listings_nonsuperhost['price'],n)\n",
    "    medians[i]=np.median(x)\n",
    "print(\"98% confidence interval for the sample median for nonsuperhost listings\",np.percentile(medians,[1,99]))\n"
   ]
  },
  {
   "cell_type": "markdown",
   "metadata": {},
   "source": [
    "#### Question2:  Does the absence of reviews affect price significantly?"
   ]
  },
  {
   "cell_type": "code",
   "execution_count": 19,
   "metadata": {},
   "outputs": [
    {
     "name": "stdout",
     "output_type": "stream",
     "text": [
      "number of listings with reviews  33934\n",
      "number of listings without reviews  8354\n",
      "reviews, mean:  138.82710555784757 standard deviation:  113.49205415148002\n",
      "no reviews, mean:  161.69355997127124 standard deviation:  144.28858754010065\n"
     ]
    },
    {
     "data": {
      "image/png": "[encoded data removed]",
      "text/plain": [
       "<Figure size 800x480 with 2 Axes>"
      ]
     },
     "metadata": {},
     "output_type": "display_data"
    }
   ],
   "source": [
    "listings_reviews=listings[listings['number_of_reviews']>0]\n",
    "listings_no_reviews=listings[listings['number_of_reviews']==0]\n",
    "print('number of listings with reviews ',listings_reviews.shape[0])\n",
    "print('number of listings without reviews ',listings_no_reviews.shape[0])\n",
    "print('reviews, mean: ',np.mean(listings_reviews['price']),'standard deviation: ',np.std(listings_reviews['price']))\n",
    "print('no reviews, mean: ',np.mean(listings_no_reviews['price']),'standard deviation: ',np.std(listings_no_reviews['price']))\n",
    "plt.figure(figsize=(10, 6), dpi= 80, facecolor='w', edgecolor='k')\n",
    "plt.subplot(1,2,1).set_title('with reviews')\n",
    "plt.hist(listings_reviews['price'],bins=10);\n",
    "plt.subplot(1,2,2).set_title('no reviews')\n",
    "plt.hist(listings_no_reviews['price'],bins=10);\n",
    "plt.show()"
   ]
  },
  {
   "cell_type": "markdown",
   "metadata": {},
   "source": [
    "Surprisingly, the mean for sample of listings without review is bigger than the mean of sample with reviews. Let us see if this is statistically significant"
   ]
  },
  {
   "cell_type": "code",
   "execution_count": 20,
   "metadata": {},
   "outputs": [
    {
     "name": "stdout",
     "output_type": "stream",
     "text": [
      "98% confidence interval for the sample mean for listings with reviews [137.36725968 140.26278305]\n",
      "98% confidence interval for the sample mean for listings without reviews [158.17603424 165.31687575]\n"
     ]
    },
    {
     "data": {
      "image/png": "[encoded data removed]",
      "text/plain": [
       "<Figure size 432x288 with 1 Axes>"
      ]
     },
     "metadata": {},
     "output_type": "display_data"
    }
   ],
   "source": [
    "# We could use Students t-distribution here and construct confidence intervals for mean analytically, \n",
    "# but let's just use bootstrapping\n",
    "N=10000\n",
    "n=listings_reviews.shape[0]\n",
    "means=np.zeros(N)\n",
    "for i in range(N):\n",
    "    x=np.random.choice(listings_reviews['price'],n)\n",
    "    means[i]=np.mean(x)\n",
    "plt.hist(means,bins=40);\n",
    "print(\"98% confidence interval for the sample mean for listings with reviews\",np.percentile(means,[1,99]))\n",
    "\n",
    "n=listings_no_reviews.shape[0]\n",
    "means=np.zeros(N)\n",
    "for i in range(N):\n",
    "    x=np.random.choice(listings_no_reviews['price'],n)\n",
    "    means[i]=np.mean(x)\n",
    "plt.hist(means,bins=40);\n",
    "print(\"98% confidence interval for the sample mean for listings without reviews\",np.percentile(means,[1,99]))\n"
   ]
  },
  {
   "cell_type": "markdown",
   "metadata": {},
   "source": [
    "So we see that with 96% confidence the listings population mean is 18$ less than no-listings population mean.\n",
    "Thus we see that ctrict cancellation policy is more likely associated with more expensive rooms. This is quit surprising to see as one could expect that new listings will be advertised for lower price to attract guests. One possible explanation could be that new listings can appear in newly built houses that should be more expensive."
   ]
  },
  {
   "cell_type": "markdown",
   "metadata": {},
   "source": [
    "#### Question3: Does cancellation policy matter?"
   ]
  },
  {
   "cell_type": "code",
   "execution_count": 21,
   "metadata": {},
   "outputs": [
    {
     "name": "stdout",
     "output_type": "stream",
     "text": [
      "['strict_14_with_grace_period' 'flexible' 'moderate' 'super_strict_30'\n",
      " 'strict' 'super_strict_60']\n",
      "cancellation_policy\n",
      "flexible                       12918\n",
      "moderate                       11754\n",
      "strict                            33\n",
      "strict_14_with_grace_period    17416\n",
      "super_strict_30                   10\n",
      "super_strict_60                  157\n",
      "Name: id, dtype: int64\n"
     ]
    }
   ],
   "source": [
    "print(listings['cancellation_policy'].unique())\n",
    "print(listings.groupby('cancellation_policy')['id'].count())"
   ]
  },
  {
   "cell_type": "code",
   "execution_count": 22,
   "metadata": {},
   "outputs": [
    {
     "name": "stdout",
     "output_type": "stream",
     "text": [
      "flexible (12918, 77)\n",
      "strict (17416, 77)\n",
      "flexible 121.57408267533674 90.0 107.5409032610254\n",
      "strict 163.14796738631145 125.0 132.5750477977592\n"
     ]
    },
    {
     "data": {
      "image/png": "[encoded data removed]",
      "text/plain": [
       "<Figure size 800x480 with 2 Axes>"
      ]
     },
     "metadata": {},
     "output_type": "display_data"
    }
   ],
   "source": [
    "title_1='flexible'\n",
    "title_2='strict'\n",
    "listings_1=listings[listings['cancellation_policy']=='flexible']\n",
    "listings_2=listings[listings['cancellation_policy']=='strict_14_with_grace_period']\n",
    "print(title_1,listings_1.shape)\n",
    "print(title_2,listings_2.shape)\n",
    "print(title_1,np.mean(listings_1['price']), np.median(listings_1['price']),np.std(listings_1['price']))\n",
    "print(title_2,np.mean(listings_2['price']),np.median(listings_2['price']),np.std(listings_2['price']))\n",
    "plt.figure(figsize=(10, 6), dpi= 80, facecolor='w', edgecolor='k')\n",
    "plt.subplot(1,2,1).set_title(title_1)\n",
    "plt.hist(listings_1['price'],bins=20);\n",
    "plt.subplot(1,2,2).set_title(title_2)\n",
    "plt.hist(listings_2['price'],bins=20);\n",
    "plt.show()"
   ]
  },
  {
   "cell_type": "code",
   "execution_count": 23,
   "metadata": {},
   "outputs": [
    {
     "name": "stdout",
     "output_type": "stream",
     "text": [
      "99% confidence interval for the sample mean with flexible cancellation policy [119.09873665 124.05324934]\n",
      "99% confidence interval for the sample mean with strict cancellation policy [159.39727376 166.95812006]\n"
     ]
    },
    {
     "data": {
      "image/png": "[encoded data removed]",
      "text/plain": [
       "<Figure size 432x288 with 1 Axes>"
      ]
     },
     "metadata": {},
     "output_type": "display_data"
    }
   ],
   "source": [
    "# Let's use bootratpping\n",
    "N=10000\n",
    "n=listings_1.shape[0]\n",
    "means=np.zeros(N)\n",
    "for i in range(N):\n",
    "    x=np.random.choice(listings_1['price'],n)\n",
    "    means[i]=np.mean(x)\n",
    "plt.hist(means,bins=40);\n",
    "print(\"99% confidence interval for the sample mean with flexible cancellation policy\",np.percentile(means,[0.5,99.5]))\n",
    "\n",
    "n=listings_no_reviews.shape[0]\n",
    "means=np.zeros(N)\n",
    "for i in range(N):\n",
    "    x=np.random.choice(listings_2['price'],n)\n",
    "    means[i]=np.mean(x)\n",
    "plt.hist(means,bins=40);\n",
    "print(\"99% confidence interval for the sample mean with strict cancellation policy\",np.percentile(means,[0.5,99.5]))\n"
   ]
  },
  {
   "cell_type": "markdown",
   "metadata": {},
   "source": [
    "So with 98% confidence we can state that listings with strict cancellation policy cost 35 dollars more than listings with flexible cancellation policy."
   ]
  },
  {
   "cell_type": "markdown",
   "metadata": {},
   "source": [
    "## 3. Price prediction models\n",
    "To see how different features affect the price of a listings we will build a model that predicts the price of a listings based on its features.\n",
    "\n",
    "### 3.1. Linear regression\n",
    "**Linear regression** Let's start with the simplest linear regression model as it will allow us to estimate the weights of different features. When predicting a price of a listing it seems that the relative error in price prediction is more important than the absolute error: making 50\\$ error while predicting the price of 500\\$-range listings is not as bad as making 50\\$ error while predicting the price of 60\\$-range listing. Therefore we will construct linear regressor that predicts logarithm of the price rather than price itself."
   ]
  },
  {
   "cell_type": "code",
   "execution_count": 24,
   "metadata": {},
   "outputs": [
    {
     "name": "stderr",
     "output_type": "stream",
     "text": [
      "/home/neshitov/anaconda3/lib/python3.6/site-packages/pandas/core/indexing.py:543: SettingWithCopyWarning: \n",
      "A value is trying to be set on a copy of a slice from a DataFrame.\n",
      "Try using .loc[row_indexer,col_indexer] = value instead\n",
      "\n",
      "See the caveats in the documentation: http://pandas.pydata.org/pandas-docs/stable/indexing.html#indexing-view-versus-copy\n",
      "  self.obj[item] = s\n"
     ]
    }
   ],
   "source": [
    "#Start with linear regression\n",
    "from sklearn.linear_model import LinearRegression, Ridge, Lasso\n",
    "listings_lr=listings.copy()\n",
    "listings_lr=pd.get_dummies(listings_lr,prefix=['','type','bed','cancel','nbd'],columns=['property_type','room_type','bed_type','cancellation_policy','neighbourhood_cleansed'])\n",
    "features=listings_lr.drop(columns=['id','maximum_nights','price'])\n",
    "\n",
    "#amenities_variance={}\n",
    "#for x in amenities:\n",
    "#    amenities_variance[x]=np.var(listings_lr[x])\n",
    "#amenities_variance=OrderedDict(sorted(amenities_variance.items(), key=operator.itemgetter(1)))\n",
    "#for x in amenities_variance:\n",
    "#    print(x,amenities_variance[x])\n",
    "# fill missing values with zeros for the logistic regression\n",
    "#features=features.fillna(0)\n",
    "logprices=np.log(listings_lr['price'])\n",
    "features_train, features_test, logprices_train, logprices_test= train_test_split(features,logprices,random_state=42)\n",
    "# apply the RobustScaler to ensure that all features are on the same scale.\n",
    "scaler=RobustScaler()\n",
    "numerical_columns=['accommodates','bathrooms','bedrooms','beds','guests_included','minimum_nights',\n",
    "'number_of_reviews','review_scores_rating','review_scores_accuracy','review_scores_cleanliness',\n",
    "'review_scores_checkin','review_scores_communication','review_scores_location','review_scores_value',\n",
    "'reviews_per_month']\n",
    "\n",
    "features_train.loc[:,numerical_columns]=scaler.fit_transform(features_train.loc[:,numerical_columns])\n",
    "features_test.loc[:,numerical_columns]=scaler.transform(features_test.loc[:,numerical_columns])"
   ]
  },
  {
   "cell_type": "code",
   "execution_count": 25,
   "metadata": {},
   "outputs": [
    {
     "name": "stdout",
     "output_type": "stream",
     "text": [
      "train relative error 50,75,90,95 percentile: \n",
      "[0.20986664 0.37257238 0.56998248 0.73193822]\n",
      "test relative error 50,75,90,95 percentile: \n",
      "[0.21504969 0.38062032 0.59204049 0.74788401]\n"
     ]
    },
    {
     "data": {
      "image/png": "[encoded data removed]",
      "text/plain": [
       "<Figure size 720x216 with 2 Axes>"
      ]
     },
     "metadata": {},
     "output_type": "display_data"
    }
   ],
   "source": [
    "#Let's use ridge regression to prevent overfitting\n",
    "lm=Ridge(alpha=0.9)\n",
    "#lm=LinearRegression()\n",
    "lm=lm.fit(features_train,logprices_train)\n",
    "#Analyze the performance: take exponent to get the prices of the listings and compute relative errors\n",
    "prices_train_pred, prices_test_pred=np.exp(lm.predict(features_train)), np.exp(lm.predict(features_test))\n",
    "train_relative_error=np.abs(np.exp(logprices_train)-prices_train_pred)/np.exp(logprices_train)\n",
    "test_relative_error=np.abs(np.exp(logprices_test)-prices_test_pred)/np.exp(logprices_test)\n",
    "plt.figure(figsize=(10,3))\n",
    "plt.subplot(1,2,1).set_title('relative train error')\n",
    "plt.hist(train_relative_error,range=[0,2],bins=20);\n",
    "plt.subplot(1,2,2).set_title('relative test error')\n",
    "plt.hist(test_relative_error,range=[0,2],bins=20);\n",
    "\n",
    "print('train relative error 50,75,90,95 percentile: ')\n",
    "print(np.percentile(train_relative_error,[50,75,90,95]))\n",
    "print('test relative error 50,75,90,95 percentile: ')\n",
    "print(np.percentile(test_relative_error,[50,75,90,95]))\n"
   ]
  },
  {
   "cell_type": "code",
   "execution_count": 26,
   "metadata": {},
   "outputs": [],
   "source": [
    "# Create a table to compare the model prediction results. This will be a dictionary with keys: model names and\n",
    "# parameters and values given by the list of test error percentiles\n",
    "benchmark={}\n",
    "benchmark['ridge regression, alpha=0.1']=np.percentile(test_relative_error,[50,75,90,95])"
   ]
  },
  {
   "cell_type": "markdown",
   "metadata": {},
   "source": [
    "**Features impact**: Let's see the features that have the biggest impact on the price"
   ]
  },
  {
   "cell_type": "code",
   "execution_count": 27,
   "metadata": {},
   "outputs": [
    {
     "name": "stdout",
     "output_type": "stream",
     "text": [
      "Neighborhoods:\n",
      "nbd_Malibu 0.8522729620627627\n",
      "nbd_Unincorporated Catalina Island 0.7659742454398452\n",
      "nbd_Avalon 0.637937080057871\n",
      "nbd_Unincorporated Santa Monica Mountains 0.5844284950194685\n",
      "nbd_Tujunga Canyons 0.577603911232852\n",
      "nbd_Manhattan Beach 0.5767636753628779\n",
      "nbd_Beverly Crest 0.5360536570046575\n",
      "nbd_Pacific Palisades 0.5006309632231281\n",
      "nbd_Citrus 0.4829863314149126\n",
      "nbd_Venice 0.4802108879061485\n",
      "nbd_Hollywood Hills West 0.4564205120140054\n",
      "nbd_Ramona 0.4494112312232769\n",
      "nbd_Santa Monica 0.44064986288857133\n",
      "nbd_Beverly Hills 0.42703809401755444\n",
      "nbd_Hermosa Beach 0.3898331774301648\n",
      "nbd_Bel-Air 0.38171073447735465\n",
      "nbd_Palos Verdes Estates 0.36400508087388206\n",
      "nbd_Northeast Antelope Valley 0.35599162254838373\n",
      "nbd_San Marino 0.3231788339583595\n",
      "nbd_Topanga 0.3198087536530818\n",
      "nbd_Beverly Grove 0.31660507170205054\n",
      "nbd_Hawaiian Gardens 0.3161323120806699\n",
      "nbd_Playa del Rey 0.31572988956331755\n",
      "nbd_West Hollywood 0.30466143100634746\n",
      "nbd_Hancock Park 0.2889299568612727\n",
      "nbd_Marina del Rey 0.2825381743449794\n",
      "nbd_Cheviot Hills 0.2819289776506754\n",
      "nbd_Hollywood Hills 0.27600873966325873\n",
      "nbd_Beverlywood 0.27565072522500417\n",
      "nbd_Brentwood 0.2744130849614813\n",
      "nbd_Fairfax 0.2632764870758049\n",
      "nbd_La Crescenta-Montrose 0.2611575389665467\n",
      "nbd_Griffith Park 0.25946474627966193\n",
      "nbd_Century City 0.25048989800791077\n",
      "nbd_Redondo Beach 0.24442489060122274\n",
      "nbd_Playa Vista 0.24283546850763413\n",
      "nbd_Westwood 0.23523202317844596\n",
      "nbd_Downtown 0.2316977585385228\n",
      "nbd_Windsor Square 0.2316575447741626\n",
      "nbd_Santa Fe Springs 0.22297330443421673\n",
      "nbd_Sawtelle 0.2186627842675676\n",
      "nbd_Veterans Administration 0.2114307931611831\n",
      "nbd_El Segundo 0.2105364439029828\n",
      "nbd_Silver Lake 0.20327181176980874\n",
      "nbd_Studio City 0.19679533284858253\n",
      "nbd_Del Rey 0.19638430858959283\n",
      "nbd_Rancho Palos Verdes 0.19472596898264224\n",
      "nbd_Los Feliz 0.19306418336753878\n",
      "nbd_Vernon 0.18766065087438044\n",
      "nbd_Mar Vista 0.18702282725223482\n",
      "nbd_Carthay 0.17824643477714544\n",
      "nbd_Hollywood 0.17526246512043966\n",
      "nbd_Harvard Park 0.17055609093843713\n",
      "nbd_Universal City 0.17042342721254952\n",
      "nbd_Culver City 0.16830074298161568\n",
      "nbd_Castaic Canyons 0.16559706900489365\n",
      "nbd_Ladera Heights 0.16379503584919913\n",
      "nbd_Mid-Wilshire 0.16269956403987237\n",
      "nbd_La Cañada Flintridge 0.15449748282005485\n",
      "nbd_Larchmont 0.14867614186672584\n",
      "nbd_Echo Park 0.14593780450321434\n",
      "nbd_Lake Hughes 0.14496825274679134\n",
      "nbd_Pico-Robertson 0.14284173421350785\n",
      "nbd_Toluca Lake 0.14091984335219612\n",
      "nbd_Sherman Oaks 0.13840629589306913\n",
      "nbd_Pasadena 0.12819067478205629\n",
      "nbd_Acton 0.1203936208733927\n",
      "nbd_Westchester 0.11531610846649544\n",
      "nbd_Torrance 0.11234413054421526\n",
      "nbd_Sierra Madre 0.1115640437567768\n",
      "nbd_South Pasadena 0.11083419225710568\n",
      "nbd_San Pasqual 0.11045063681209084\n",
      "nbd_Long Beach 0.10947594513071778\n",
      "nbd_Vermont Knolls 0.10768034711278161\n",
      "nbd_Atwater Village 0.10592760030042123\n",
      "nbd_Sun Village -0.10009313483565961\n",
      "nbd_Green Valley -0.10272418667088908\n",
      "nbd_North El Monte -0.10610474748862488\n",
      "nbd_El Sereno -0.10643143955732945\n",
      "nbd_Paramount -0.10702535298336315\n",
      "nbd_Inglewood -0.10977249743602335\n",
      "nbd_Norwalk -0.11023065846264873\n",
      "nbd_Watts -0.11087204935938114\n",
      "nbd_West Carson -0.11234215757490067\n",
      "nbd_Sun Valley -0.11328318702754181\n",
      "nbd_San Fernando -0.11584196178876935\n",
      "nbd_Whittier -0.11652887944737697\n",
      "nbd_Gardena -0.11734540953288941\n",
      "nbd_Lake Balboa -0.117421068253419\n",
      "nbd_Reseda -0.11977483244255877\n",
      "nbd_Granada Hills -0.12237586488777377\n",
      "nbd_San Gabriel -0.12363266712071505\n",
      "nbd_South Park -0.12386670538163223\n",
      "nbd_East San Gabriel -0.12422506705255831\n",
      "nbd_Arleta -0.1255088135871151\n",
      "nbd_West Hills -0.125619108680331\n",
      "nbd_Baldwin Park -0.13195176835974598\n",
      "nbd_North Hills -0.13276579088358142\n",
      "nbd_Pico Rivera -0.13511392792614577\n",
      "nbd_Monterey Park -0.13524570421096924\n",
      "nbd_Harvard Heights -0.13764136320720194\n",
      "nbd_Rosemead -0.13805121516380317\n",
      "nbd_Sylmar -0.13828226170081767\n",
      "nbd_Northwest Antelope Valley -0.1388898329513536\n",
      "nbd_Downey -0.1404575889619207\n",
      "nbd_Lake View Terrace -0.14066012372920966\n",
      "nbd_Lopez/Kagel Canyons -0.14384105605814584\n",
      "nbd_Lennox -0.14522130564239302\n",
      "nbd_Sepulveda Basin -0.14725389055835741\n",
      "nbd_Monrovia -0.14805203372264322\n",
      "nbd_Historic South-Central -0.14874538086034714\n",
      "nbd_Lynwood -0.15113838089646858\n",
      "nbd_Ridge Route -0.15375065413233993\n",
      "nbd_La Mirada -0.16026922119897766\n",
      "nbd_Azusa -0.1701620668839504\n",
      "nbd_Alhambra -0.17019840419961102\n",
      "nbd_Angeles Crest -0.17406762241032214\n",
      "nbd_South Gate -0.18709667076458952\n",
      "nbd_Panorama City -0.1882022379906666\n",
      "nbd_Leona Valley -0.19422686379574905\n",
      "nbd_Harbor Gateway -0.19853047077241207\n",
      "nbd_Florence -0.20148823664855922\n",
      "nbd_Mayflower Village -0.20156863436993222\n",
      "nbd_West Covina -0.2016609824806084\n",
      "nbd_Duarte -0.20177942083733666\n",
      "nbd_University Park -0.2026503219139541\n",
      "nbd_Tujunga -0.2097166835634967\n",
      "nbd_Valinda -0.2104206724560453\n",
      "nbd_West Compton -0.21661294742362497\n",
      "nbd_Mission Hills -0.221010017289981\n",
      "nbd_South El Monte -0.22362416432693538\n",
      "nbd_Irwindale -0.22774635808424384\n",
      "nbd_Temple City -0.23142706986486575\n",
      "nbd_Castaic -0.23667284698121638\n",
      "nbd_West Whittier-Los Nietos -0.23719883065283204\n",
      "nbd_Pomona -0.23755845240693088\n",
      "nbd_Covina -0.23994101397265274\n",
      "nbd_East La Mirada -0.24004502896935812\n",
      "nbd_Industry -0.24078133572183094\n",
      "nbd_Broadway-Manchester -0.24622457065824654\n",
      "nbd_Walnut -0.24683729779469832\n",
      "nbd_Diamond Bar -0.24818740594818417\n",
      "nbd_Unincorporated Santa Susana Mountains -0.2587206830676768\n",
      "nbd_El Monte -0.26629885860647007\n",
      "nbd_Montebello -0.284065076942752\n",
      "nbd_South San Gabriel -0.2920953562069284\n",
      "nbd_Hacienda Heights -0.29647433501853093\n",
      "nbd_Bell Gardens -0.298445660347444\n",
      "nbd_Florence-Firestone -0.2996279082224277\n",
      "nbd_Willowbrook -0.3004426013384313\n",
      "nbd_Wilmington -0.3178563428168119\n",
      "nbd_Northwest Palmdale -0.32285886786467627\n",
      "nbd_Rowland Heights -0.3283698510548686\n",
      "nbd_Athens -0.3341429121253879\n",
      "nbd_Charter Oak -0.34109576101307454\n",
      "nbd_Cerritos -0.34790473471208927\n",
      "nbd_Vincent -0.3644403416786751\n",
      "nbd_Pacoima -0.3652466666239066\n",
      "nbd_Cudahy -0.3698163953804477\n",
      "nbd_Bradbury -0.3744766053418393\n",
      "nbd_Glendora -0.37898885546576894\n",
      "nbd_Palmdale -0.42255114590639525\n",
      "nbd_Lake Los Angeles -0.4358566782017702\n",
      "nbd_Quartz Hill -0.45045264718670763\n",
      "nbd_Rancho Dominguez -0.45117102989251934\n",
      "nbd_Lancaster -0.4566304710034593\n",
      "nbd_Vermont-Slauson -0.5103680689491347\n",
      "nbd_West Puente Valley -0.653277235722845\n",
      "intercept 4.578428549925609\n",
      "Other features:\n",
      "_Aparthotel 0.5763445475830453\n",
      "type_Entire home/apt 0.5475158292062542\n",
      "_Boutique hotel 0.36887590528973146\n",
      "cancel_super_strict_60 0.2594009074736905\n",
      "_Hotel 0.23119695746526123\n",
      "bedrooms 0.16617737202059157\n",
      "_Treehouse 0.1604446010582018\n",
      "bed_Couch 0.1591757759724707\n",
      "cancel_strict 0.11603141866839681\n",
      "_Chalet 0.10269343454095639\n",
      "_Bed and breakfast 0.09984659375368837\n",
      "accommodates 0.09091469807688117\n",
      "review_scores_cleanliness 0.0662409705257246\n",
      "Indoor fireplace 0.06587551945815778\n",
      "TV 0.06361778703989185\n",
      "Dishwasher 0.06197778625378679\n",
      "Shampoo 0.0570928748926416\n",
      "Hot tub 0.05490077204666933\n",
      "Pool 0.05383757410107918\n",
      "cancel_strict_14_with_grace_period -0.05044871854206918\n",
      "_Guesthouse -0.052308706557035824\n",
      "_Tiny house -0.05410428009123615\n",
      "Kitchen -0.05438176882753827\n",
      "review_scores_value -0.054711884877222366\n",
      "bed_Futon -0.05601533801701716\n",
      "cancel_moderate -0.06027366527902872\n",
      "bed_Airbed -0.06144559968200675\n",
      "_Farm stay -0.06267099517269409\n",
      "Essentials -0.0680303551230699\n",
      "_Bungalow -0.07032962610671883\n",
      "Microwave -0.07289030366856984\n",
      "_Hostel -0.08049272116433892\n",
      "_Yurt -0.08084742864183053\n",
      "_Townhouse -0.08235446016558358\n",
      "_Condominium -0.09595180382100084\n",
      "host_has_profile_pic -0.09858625543424322\n",
      "_Guest suite -0.1123931703905698\n",
      "_Cabin -0.11486992145208656\n",
      "_Camper/RV -0.11898978089899616\n",
      "Wifi -0.12801893000688594\n",
      "_Apartment -0.13752856031903662\n",
      "has_reviews -0.1627661952148288\n",
      "cancel_super_strict_30 -0.23702150451592852\n",
      "_Tent -0.33758152531791713\n",
      "type_Shared room -0.585962665000897\n"
     ]
    }
   ],
   "source": [
    "features_dict=OrderedDict(list((features.columns[i],lm.coef_[i]) for i in range(features.shape[1])))\n",
    "features_dict=OrderedDict(sorted(features_dict.items(), key=operator.itemgetter(1),reverse=True))\n",
    "# Let us print all coefficients with magnitude bigger than 0.1\n",
    "print('Neighborhoods:')\n",
    "for x in features_dict.items():\n",
    "    if 'nbd_' in x[0] and np.abs(x[1])>0.1:\n",
    "        print(x[0],x[1])\n",
    "print('intercept',lm.intercept_)        \n",
    "print('Other features:')        \n",
    "for x in features_dict.items():\n",
    "    if 'nbd_' not in x[0] and np.abs(x[1])>0.05:\n",
    "        print(x[0],x[1])\n",
    "\n",
    "#print('non-neighborhood related features')\n",
    "#print(list(x for x in features_dict.items() if 'nbd_' not in x[0]))\n",
    "\n",
    "#print(lm.coef_)"
   ]
  },
  {
   "cell_type": "markdown",
   "metadata": {},
   "source": [
    "So we see that the neighborhood features have the most weight in the price determination. Among the non-neighborhood features most important are the binary features indicating type of the room ('entire home/apt'), number of bedrooms and number of people it accommodates. Among the review features the most important seems to be the cleanliness score, the most important amenities are indoor fireplace, TV and Dishwasher.\n",
    "Thus if we accept the linear regression model for the logarithm of the price, then we have the following impacts of the amenities: we see theat indoor fireplace adds 6.5% to the price of the listing, TV adds 6.3%, Dishwasher adds 6.1%. \n",
    "\n",
    "Surprisingly we see that some amenities have negative weight: like the weight of wifi amenity is -0.12. An explanation of this is that in fact almost all of the listings do have wifi in their list of amenities. Thus the Wifi variable might serve as a way for regressor to indicate the ouliers."
   ]
  },
  {
   "cell_type": "markdown",
   "metadata": {},
   "source": [
    "### 3.2 AdaBoost and random forest\n",
    "Now let's try to construct a better model by using decision trees. We will use adaboost on decision tree and random forest with different parameters and then will choose the model with the best test set performance."
   ]
  },
  {
   "cell_type": "code",
   "execution_count": 28,
   "metadata": {},
   "outputs": [
    {
     "name": "stdout",
     "output_type": "stream",
     "text": [
      "[0.28353356 0.51232031 0.80848596 1.07442561]\n",
      "[0.25513248 0.44331082 0.65910425 0.84545309]\n",
      "[0.29097234 0.53099073 0.84000578 1.14889266]\n",
      "[0.2559391  0.44188286 0.66153881 0.84436421]\n",
      "[0.30050569 0.55059506 0.87617691 1.18010397]\n",
      "[0.25635899 0.44292339 0.66141474 0.84360163]\n",
      "[0.30528837 0.55869996 0.8927071  1.19132607]\n",
      "[0.2553167  0.44285816 0.6594844  0.84304109]\n",
      "[0.23340643 0.42028447 0.64623813 0.83228199]\n",
      "[0.22692753 0.41213223 0.62013236 0.79116543]\n",
      "[0.23907736 0.42485196 0.65271467 0.83521201]\n",
      "[0.22784421 0.41085566 0.6208639  0.79484964]\n",
      "[0.24269928 0.43473862 0.66135332 0.85250558]\n",
      "[0.22806194 0.41122296 0.62052945 0.79493532]\n",
      "[0.24471315 0.43737694 0.66814496 0.85162739]\n",
      "[0.22713649 0.40808157 0.62289159 0.79752648]\n",
      "[0.20613984 0.37589321 0.57590266 0.73414266]\n",
      "[0.22415052 0.40079101 0.61651021 0.78800165]\n",
      "[0.20300742 0.37288923 0.57969853 0.72802136]\n",
      "[0.2227046  0.3979888  0.61454467 0.79373484]\n",
      "[0.20267849 0.37142857 0.57649528 0.73760231]\n",
      "[0.22306135 0.3997239  0.61492069 0.78854556]\n",
      "[0.20111645 0.36934406 0.57142857 0.73592052]\n",
      "[0.22307059 0.3982274  0.61579606 0.79118276]\n",
      "[0.2        0.36363636 0.56826669 0.73043478]\n",
      "[0.22415052 0.40069593 0.61693823 0.78790344]\n",
      "[0.19863347 0.36042695 0.5625     0.71918046]\n",
      "[0.22293826 0.39779507 0.61472807 0.79373484]\n",
      "[0.19725376 0.35897436 0.56       0.7193125 ]\n",
      "[0.22309499 0.39942012 0.61503547 0.78854556]\n",
      "[0.19684627 0.35546135 0.56       0.71787452]\n",
      "[0.22278779 0.39855582 0.61579606 0.79118276]\n",
      "[0.2        0.375      0.57894737 0.75146104]\n",
      "[0.22415052 0.40069593 0.61693823 0.78790344]\n",
      "[0.19879586 0.36722408 0.57142857 0.74285714]\n",
      "[0.22293826 0.39779507 0.61472807 0.79373484]\n",
      "[0.1983601  0.36313131 0.56841348 0.73333333]\n",
      "[0.22309499 0.39942012 0.61503547 0.78854556]\n",
      "[0.1982688  0.36313131 0.56561265 0.73076923]\n",
      "[0.22278779 0.39855582 0.61579606 0.79118276]\n"
     ]
    }
   ],
   "source": [
    "from sklearn.ensemble import AdaBoostRegressor, RandomForestRegressor\n",
    "from sklearn.tree import DecisionTreeRegressor\n",
    "\n",
    "listings_adaboost=listings.copy()\n",
    "listings_adaboost=pd.get_dummies(listings_adaboost,prefix=['','type','bed','cancel','nbd'],columns=['property_type','room_type','bed_type','cancellation_policy','neighbourhood_cleansed'])\n",
    "\n",
    "features=listings_adaboost.drop(columns=['id','maximum_nights','price'])\n",
    "# fill missing values with zeros for decision trees. That will allow algorithm to see use the fact that \n",
    "# some information is missing\n",
    "features=features.fillna(-10)\n",
    "\n",
    "logprices=np.log(listings_adaboost['price'])\n",
    "features_train, features_test, logprices_train, logprices_test= train_test_split(features,logprices,random_state=42)\n",
    "\n",
    "def test_error(regressor,features_test,logprices_test):\n",
    "    prices_test_pred= np.exp(regressor.predict(features_test))\n",
    "    test_relative_error=np.abs(np.exp(logprices_test)-prices_test_pred)/np.exp(logprices_test)\n",
    "    percentiles=np.percentile(test_relative_error,[50,75,90,95])\n",
    "    print(percentiles)\n",
    "    return percentiles\n",
    "\n",
    "for md in [5,10,20,30,40]:\n",
    "    for n_estim in [20,30,40,50]:\n",
    "        ab=AdaBoostRegressor(base_estimator=DecisionTreeRegressor(max_depth=md),n_estimators=n_estim,random_state=42)\n",
    "        ab.fit(features_train,logprices_train)\n",
    "        benchmark['adaboost, max_depth='+str(md)+', n_estimators='+str(n_estim)]=test_error(ab,features_test,logprices_test)\n",
    "        rf=RandomForestRegressor(max_depth=md,n_estimators=n_estim ,min_samples_leaf=0.001,random_state=42)\n",
    "        rf.fit(features_train,logprices_train)\n",
    "        benchmark['random forest, max_depth='+str(md)+', n_estimators='+str(n_estim)]=test_error(rf,features_test,logprices_test)\n",
    "\n",
    "#prices_train_pred, prices_test_pred=np.exp(ab.predict(features_train)), np.exp(ab.predict(features_test))\n",
    "#train_relative_error=np.abs(np.exp(logprices_train)-prices_train_pred)/np.exp(logprices_train)\n",
    "#test_relative_error=np.abs(np.exp(logprices_test)-prices_test_pred)/np.exp(logprices_test)\n",
    "#plt.figure(figsize=(10,3))\n",
    "#plt.subplot(1,2,1).set_title('AdaBoost, relative train error')\n",
    "#plt.hist(train_relative_error,range=[0,2],bins=20);\n",
    "#plt.subplot(1,2,2).set_title('AdaBoost, relative test error')\n",
    "#plt.hist(test_relative_error,range=[0,2],bins=20);\n",
    "\n",
    "#print('train relative error 50,75,90,95 percentile: ')\n",
    "#print(np.percentile(train_relative_error,[50,75,90,95]))\n",
    "#print('test relative error 50,75,90,95 percentile: ')\n",
    "#print(np.percentile(test_relative_error,[50,75,90,95]))\n"
   ]
  },
  {
   "cell_type": "markdown",
   "metadata": {},
   "source": [
    "### 3.3 Gradient boosting trees\n",
    "Another algorithm that is worth trying is gradient boosting on trees. We will use CatBoost, a gradient boosting algorithm with categorical features support."
   ]
  },
  {
   "cell_type": "code",
   "execution_count": 29,
   "metadata": {},
   "outputs": [
    {
     "name": "stdout",
     "output_type": "stream",
     "text": [
      "0:\tlearn: 4.6191030\ttest: 4.6123764\tbest: 4.6123764 (0)\ttotal: 79ms\tremaining: 6m 34s\n",
      "1000:\tlearn: 0.3430211\ttest: 0.3526507\tbest: 0.3526507 (1000)\ttotal: 13.3s\tremaining: 53.2s\n",
      "2000:\tlearn: 0.3354028\ttest: 0.3474341\tbest: 0.3474341 (2000)\ttotal: 26.2s\tremaining: 39.2s\n",
      "3000:\tlearn: 0.3314044\ttest: 0.3452853\tbest: 0.3452853 (3000)\ttotal: 37.7s\tremaining: 25.1s\n",
      "4000:\tlearn: 0.3290534\ttest: 0.3442914\tbest: 0.3442914 (4000)\ttotal: 48.9s\tremaining: 12.2s\n",
      "4999:\tlearn: 0.3273350\ttest: 0.3436901\tbest: 0.3436901 (4999)\ttotal: 1m 3s\tremaining: 0us\n",
      "\n",
      "bestTest = 0.3436901346\n",
      "bestIteration = 4999\n",
      "\n",
      "[0.19574499 0.34671766 0.54116916 0.70819355]\n",
      "0:\tlearn: 4.6198812\ttest: 4.6130106\tbest: 4.6130106 (0)\ttotal: 41.1ms\tremaining: 3m 25s\n",
      "1000:\tlearn: 0.3429490\ttest: 0.3542266\tbest: 0.3542264 (993)\ttotal: 30s\tremaining: 1m 59s\n",
      "2000:\tlearn: 0.3406416\ttest: 0.3526726\tbest: 0.3526726 (1996)\ttotal: 40.3s\tremaining: 1m\n",
      "3000:\tlearn: 0.3394302\ttest: 0.3518436\tbest: 0.3518432 (2988)\ttotal: 51.7s\tremaining: 34.5s\n",
      "4000:\tlearn: 0.3386889\ttest: 0.3514369\tbest: 0.3514369 (3993)\ttotal: 1m 2s\tremaining: 15.7s\n",
      "4999:\tlearn: 0.3377120\ttest: 0.3508144\tbest: 0.3508144 (4988)\ttotal: 1m 13s\tremaining: 0us\n",
      "\n",
      "bestTest = 0.3508143674\n",
      "bestIteration = 4988\n",
      "\n",
      "Shrink model to first 4989 iterations.\n",
      "[0.19881978 0.35931597 0.55838979 0.7130026 ]\n"
     ]
    }
   ],
   "source": [
    "from catboost import Pool, CatBoostRegressor\n",
    "\n",
    "listings_tree=listings.copy()\n",
    "logprices=np.log(listings_tree['price'])\n",
    "features=listings_tree.drop(columns=['id','price'])\n",
    "\n",
    "features_train, features_test, logprices_train, logprices_test= train_test_split(features,logprices,random_state=42)\n",
    "categorical_columns=['neighbourhood_cleansed','property_type','room_type','bed_type','cancellation_policy']\n",
    "cat_feature_indices=[list(features.columns).index(cc) for cc in categorical_columns]\n",
    "\n",
    "train_pool = Pool(features_train, logprices_train, cat_features=cat_feature_indices)\n",
    "test_pool = Pool(features_test, logprices_test, cat_features=cat_feature_indices)\n",
    "\n",
    "model = CatBoostRegressor(iterations=5000, depth=3,od_type='Iter',od_wait=300, loss_function='RMSE')\n",
    "model.fit(train_pool,eval_set=test_pool,use_best_model=True,verbose=1000)\n",
    "benchmark['catboost, depth=3']=test_error(model,features_test,logprices_test)\n",
    "\n",
    "model = CatBoostRegressor(iterations=5000, depth=6,od_type='Iter',od_wait=300, loss_function='RMSE')\n",
    "model.fit(train_pool,eval_set=test_pool,use_best_model=True,verbose=1000)\n",
    "benchmark['catboost, depth=6']=test_error(model,features_test,logprices_test)"
   ]
  },
  {
   "cell_type": "markdown",
   "metadata": {},
   "source": [
    "### 3.4 Prediction model comparison\n",
    "Let's compare the algorithms:"
   ]
  },
  {
   "cell_type": "code",
   "execution_count": 30,
   "metadata": {},
   "outputs": [
    {
     "name": "stdout",
     "output_type": "stream",
     "text": [
      "ridge regression, alpha=0.1 [0.21504969 0.38062032 0.59204049 0.74788401]\n",
      "adaboost, max_depth=5, n_estimators=20 [0.28353356 0.51232031 0.80848596 1.07442561]\n",
      "random forest, max_depth=5, n_estimators=20 [0.25513248 0.44331082 0.65910425 0.84545309]\n",
      "adaboost, max_depth=5, n_estimators=30 [0.29097234 0.53099073 0.84000578 1.14889266]\n",
      "random forest, max_depth=5, n_estimators=30 [0.2559391  0.44188286 0.66153881 0.84436421]\n",
      "adaboost, max_depth=5, n_estimators=40 [0.30050569 0.55059506 0.87617691 1.18010397]\n",
      "random forest, max_depth=5, n_estimators=40 [0.25635899 0.44292339 0.66141474 0.84360163]\n",
      "adaboost, max_depth=5, n_estimators=50 [0.30528837 0.55869996 0.8927071  1.19132607]\n",
      "random forest, max_depth=5, n_estimators=50 [0.2553167  0.44285816 0.6594844  0.84304109]\n",
      "adaboost, max_depth=10, n_estimators=20 [0.23340643 0.42028447 0.64623813 0.83228199]\n",
      "random forest, max_depth=10, n_estimators=20 [0.22692753 0.41213223 0.62013236 0.79116543]\n",
      "adaboost, max_depth=10, n_estimators=30 [0.23907736 0.42485196 0.65271467 0.83521201]\n",
      "random forest, max_depth=10, n_estimators=30 [0.22784421 0.41085566 0.6208639  0.79484964]\n",
      "adaboost, max_depth=10, n_estimators=40 [0.24269928 0.43473862 0.66135332 0.85250558]\n",
      "random forest, max_depth=10, n_estimators=40 [0.22806194 0.41122296 0.62052945 0.79493532]\n",
      "adaboost, max_depth=10, n_estimators=50 [0.24471315 0.43737694 0.66814496 0.85162739]\n",
      "random forest, max_depth=10, n_estimators=50 [0.22713649 0.40808157 0.62289159 0.79752648]\n",
      "adaboost, max_depth=20, n_estimators=20 [0.20613984 0.37589321 0.57590266 0.73414266]\n",
      "random forest, max_depth=20, n_estimators=20 [0.22415052 0.40079101 0.61651021 0.78800165]\n",
      "adaboost, max_depth=20, n_estimators=30 [0.20300742 0.37288923 0.57969853 0.72802136]\n",
      "random forest, max_depth=20, n_estimators=30 [0.2227046  0.3979888  0.61454467 0.79373484]\n",
      "adaboost, max_depth=20, n_estimators=40 [0.20267849 0.37142857 0.57649528 0.73760231]\n",
      "random forest, max_depth=20, n_estimators=40 [0.22306135 0.3997239  0.61492069 0.78854556]\n",
      "adaboost, max_depth=20, n_estimators=50 [0.20111645 0.36934406 0.57142857 0.73592052]\n",
      "random forest, max_depth=20, n_estimators=50 [0.22307059 0.3982274  0.61579606 0.79118276]\n",
      "adaboost, max_depth=30, n_estimators=20 [0.2        0.36363636 0.56826669 0.73043478]\n",
      "random forest, max_depth=30, n_estimators=20 [0.22415052 0.40069593 0.61693823 0.78790344]\n",
      "adaboost, max_depth=30, n_estimators=30 [0.19863347 0.36042695 0.5625     0.71918046]\n",
      "random forest, max_depth=30, n_estimators=30 [0.22293826 0.39779507 0.61472807 0.79373484]\n",
      "adaboost, max_depth=30, n_estimators=40 [0.19725376 0.35897436 0.56       0.7193125 ]\n",
      "random forest, max_depth=30, n_estimators=40 [0.22309499 0.39942012 0.61503547 0.78854556]\n",
      "adaboost, max_depth=30, n_estimators=50 [0.19684627 0.35546135 0.56       0.71787452]\n",
      "random forest, max_depth=30, n_estimators=50 [0.22278779 0.39855582 0.61579606 0.79118276]\n",
      "adaboost, max_depth=40, n_estimators=20 [0.2        0.375      0.57894737 0.75146104]\n",
      "random forest, max_depth=40, n_estimators=20 [0.22415052 0.40069593 0.61693823 0.78790344]\n",
      "adaboost, max_depth=40, n_estimators=30 [0.19879586 0.36722408 0.57142857 0.74285714]\n",
      "random forest, max_depth=40, n_estimators=30 [0.22293826 0.39779507 0.61472807 0.79373484]\n",
      "adaboost, max_depth=40, n_estimators=40 [0.1983601  0.36313131 0.56841348 0.73333333]\n",
      "random forest, max_depth=40, n_estimators=40 [0.22309499 0.39942012 0.61503547 0.78854556]\n",
      "adaboost, max_depth=40, n_estimators=50 [0.1982688  0.36313131 0.56561265 0.73076923]\n",
      "random forest, max_depth=40, n_estimators=50 [0.22278779 0.39855582 0.61579606 0.79118276]\n",
      "catboost, depth=3 [0.19574499 0.34671766 0.54116916 0.70819355]\n",
      "catboost, depth=6 [0.19881978 0.35931597 0.55838979 0.7130026 ]\n"
     ]
    }
   ],
   "source": [
    "for x in benchmark:\n",
    "    print(x,benchmark[x])"
   ]
  },
  {
   "cell_type": "markdown",
   "metadata": {},
   "source": [
    "So all the algorithms have pretty similar aaccuracy, the best one is categorical boosting with tree depth equal 3"
   ]
  },
  {
   "cell_type": "code",
   "execution_count": 31,
   "metadata": {},
   "outputs": [
    {
     "name": "stdout",
     "output_type": "stream",
     "text": [
      "0:\tlearn: 4.6182858\ttest: 4.6116192\tbest: 4.6116192 (0)\ttotal: 35.2ms\tremaining: 2m 56s\n",
      "1000:\tlearn: 0.3439529\ttest: 0.3527178\tbest: 0.3527178 (1000)\ttotal: 11.7s\tremaining: 46.9s\n",
      "2000:\tlearn: 0.3374266\ttest: 0.3479780\tbest: 0.3479776 (1999)\ttotal: 25s\tremaining: 37.5s\n",
      "3000:\tlearn: 0.3341474\ttest: 0.3461639\tbest: 0.3461639 (3000)\ttotal: 36.5s\tremaining: 24.3s\n",
      "4000:\tlearn: 0.3320782\ttest: 0.3451857\tbest: 0.3451845 (3998)\ttotal: 47.5s\tremaining: 11.9s\n",
      "4999:\tlearn: 0.3303189\ttest: 0.3444063\tbest: 0.3444062 (4998)\ttotal: 58.6s\tremaining: 0us\n",
      "\n",
      "bestTest = 0.3444061797\n",
      "bestIteration = 4998\n",
      "\n",
      "Shrink model to first 4999 iterations.\n"
     ]
    },
    {
     "data": {
      "text/plain": [
       "[(b'room_type', 42.93454857420088),\n",
       " (b'bedrooms', 18.205232788697863),\n",
       " (b'neighbourhood_cleansed', 7.778907536017186),\n",
       " (b'accommodates', 7.660306187409178),\n",
       " (b'bathrooms', 3.907956483437008),\n",
       " (b'reviews_per_month', 1.7074017682172764),\n",
       " (b'property_type', 1.3455457376235422),\n",
       " (b'beds', 1.249714025618991),\n",
       " (b'Garden or backyard', 1.1709206837091048),\n",
       " (b'Indoor fireplace', 1.1702970966126411),\n",
       " (b'TV', 1.0191422686008256),\n",
       " (b'minimum_nights', 0.9402433023828838),\n",
       " (b'review_scores_location', 0.6325347067132768),\n",
       " (b'Washer', 0.6264640058701735),\n",
       " (b'guests_included', 0.6004737880003784),\n",
       " (b'review_scores_rating', 0.5469157943439144),\n",
       " (b'Free parking on premises', 0.4958676518264502),\n",
       " (b'Cable TV', 0.4951974326854909),\n",
       " (b'review_scores_cleanliness', 0.4871413601694906),\n",
       " (b'cancellation_policy', 0.4373734551428165),\n",
       " (b'Pool', 0.43594023282068767),\n",
       " (b'review_scores_value', 0.3815815427890738),\n",
       " (b'Kitchen', 0.3799088820048146),\n",
       " (b'number_of_reviews', 0.33354898875107863),\n",
       " (b'review_scores_communication', 0.2976123276420359),\n",
       " (b'maximum_nights', 0.28829422271920535),\n",
       " (b'Elevator', 0.2861959332947904),\n",
       " (b'has_reviews', 0.25751641847871615),\n",
       " (b'Hot tub', 0.22415911281863946),\n",
       " (b'Dryer', 0.21050968588917457),\n",
       " (b'Pets allowed', 0.196807010466481),\n",
       " (b'Iron', 0.1931469253893831),\n",
       " (b'Essentials', 0.18677315800039365),\n",
       " (b'review_scores_checkin', 0.1866670110020755),\n",
       " (b'review_scores_accuracy', 0.14986431296807592),\n",
       " (b'Smoke detector', 0.14457802580352633),\n",
       " (b'bed_type', 0.143360202480384),\n",
       " (b'Fire extinguisher', 0.1288500776979607),\n",
       " (b'Laptop friendly workspace', 0.1265171038674715),\n",
       " (b'Heating', 0.12278033383327588),\n",
       " (b'Shampoo', 0.11733224907428735),\n",
       " (b'Hangers', 0.11664598298360553),\n",
       " (b'Hair dryer', 0.11502829235705712),\n",
       " (b'Family/kid friendly', 0.10854373346547107),\n",
       " (b'translation missing: en.hosting_amenity_50', 0.10431359263810967),\n",
       " (b'Free street parking', 0.10367061914226998),\n",
       " (b'Microwave', 0.10324212291023388),\n",
       " (b'Oven', 0.10092833522169968),\n",
       " (b'Dishwasher', 0.07903019173633384),\n",
       " (b'Hot water', 0.07792222917301496),\n",
       " (b'Wifi', 0.07597986159154409),\n",
       " (b'Internet', 0.0704557834396739),\n",
       " (b'Lockbox', 0.06884938708205988),\n",
       " (b'Private entrance', 0.05834316875211508),\n",
       " (b'Bed linens', 0.05643400644368365),\n",
       " (b'Safety card', 0.05282271546620869),\n",
       " (b'Host greets you', 0.05244167874913321),\n",
       " (b'host_is_superhost', 0.04901924846006295),\n",
       " (b'Coffee maker', 0.045381555903303034),\n",
       " (b'Air conditioning', 0.04354337232751664),\n",
       " (b'Carbon monoxide detector', 0.03987941762891106),\n",
       " (b'Lock on bedroom door', 0.036811929853217816),\n",
       " (b'Dishes and silverware', 0.03496921983730335),\n",
       " (b'Refrigerator', 0.030665653503060126),\n",
       " (b'Step-free access', 0.02977836512817344),\n",
       " (b'Self check-in', 0.029441514732739614),\n",
       " (b'Extra pillows and blankets', 0.026762799352394156),\n",
       " (b'instant_bookable', 0.021581620779587394),\n",
       " (b'Patio or balcony', 0.014512050211066486),\n",
       " (b'Long term stays allowed', 0.014455676150080017),\n",
       " (b'Luggage dropoff allowed', 0.011691097293716214),\n",
       " (b'Cooking basics', 0.008140521042823215),\n",
       " (b'host_has_profile_pic', 0.007628791890230987),\n",
       " (b'First aid kit', 0.006957059682680251),\n",
       " (b'53', 0.0)]"
      ]
     },
     "execution_count": 31,
     "metadata": {},
     "output_type": "execute_result"
    }
   ],
   "source": [
    "model = CatBoostRegressor(iterations=5000, depth=3,od_type='Iter',od_wait=300, loss_function='RMSE')\n",
    "model.fit(train_pool,eval_set=test_pool,use_best_model=True,verbose=1000)\n",
    "model.get_feature_importance(data=train_pool,prettified=True)"
   ]
  },
  {
   "cell_type": "markdown",
   "metadata": {},
   "source": [
    "Feature importance for the gradient boosting model is quite different from what we saw in the linear regression model. The most important features are the room_type feature and number of bedrooms. Next features are features indicating the size (number of people that the property accommodates, number of bathrooms, etc.). Among the amenities features the most important are 'Garden or Backyard'(that did not show up in the linear model) and the fireplace and TV, which also were most important amenities in linear regression.\n"
   ]
  },
  {
   "cell_type": "markdown",
   "metadata": {},
   "source": [
    "## 4. Interval price prediction\n",
    "We can see from the previous discussion that the features that we use do not determine the price completely. When the features are known we thus get a conditional distribution of the price and so far we were constructing models that predict mean of this conditional distribution. For the practical purposes it is important to predict some interval where the price most likely fit. So we will construct a model that predicts standard deviation of the conditional distribution."
   ]
  },
  {
   "cell_type": "code",
   "execution_count": 32,
   "metadata": {},
   "outputs": [
    {
     "name": "stdout",
     "output_type": "stream",
     "text": [
      "0:\tlearn: 0.2599681\ttest: 0.2844196\tbest: 0.2844196 (0)\ttotal: 12.3ms\tremaining: 1m 1s\n",
      "1000:\tlearn: 0.2292064\ttest: 0.2530528\tbest: 0.2530520 (989)\ttotal: 12.3s\tremaining: 49s\n",
      "2000:\tlearn: 0.2279862\ttest: 0.2529342\tbest: 0.2529342 (2000)\ttotal: 24.6s\tremaining: 36.8s\n",
      "3000:\tlearn: 0.2270912\ttest: 0.2528437\tbest: 0.2528437 (2998)\ttotal: 37.1s\tremaining: 24.7s\n",
      "4000:\tlearn: 0.2264496\ttest: 0.2528016\tbest: 0.2527988 (3983)\ttotal: 49.5s\tremaining: 12.4s\n",
      "Stopped by overfitting detector  (300 iterations wait)\n",
      "\n",
      "bestTest = 0.252773597\n",
      "bestIteration = 4605\n",
      "\n",
      "Shrink model to first 4606 iterations.\n"
     ]
    },
    {
     "data": {
      "text/plain": [
       "<catboost.core.CatBoostRegressor at 0x7fd6a5d02240>"
      ]
     },
     "execution_count": 32,
     "metadata": {},
     "output_type": "execute_result"
    }
   ],
   "source": [
    "logprices_train_pred=model.predict(features_train)\n",
    "logprices_test_pred=model.predict(features_test)\n",
    "variance_model= CatBoostRegressor(iterations=5000, depth=3,od_type='Iter',od_wait=300, loss_function='RMSE')\n",
    "variance_train_pool = Pool(features_train, (logprices_train_pred-logprices_train)**2, cat_features=cat_feature_indices)\n",
    "variance_test_pool = Pool(features_test, (logprices_test_pred-logprices_test)**2, cat_features=cat_feature_indices)\n",
    "variance_model.fit(variance_train_pool,eval_set=variance_test_pool,use_best_model=True,verbose=1000)\n",
    "  "
   ]
  },
  {
   "cell_type": "code",
   "execution_count": 37,
   "metadata": {},
   "outputs": [
    {
     "data": {
      "image/png": "[encoded data removed]",
      "text/plain": [
       "<Figure size 432x288 with 1 Axes>"
      ]
     },
     "metadata": {},
     "output_type": "display_data"
    }
   ],
   "source": [
    "test_std_pred=np.sqrt(np.abs(variance_model.predict(features_test)))\n",
    "test_std_pred=np.nan_to_num(test_std_pred)\n",
    "plt.hist(test_std_pred);"
   ]
  },
  {
   "cell_type": "code",
   "execution_count": 34,
   "metadata": {},
   "outputs": [
    {
     "name": "stdout",
     "output_type": "stream",
     "text": [
      "68.% of all test points fall into predicted std\n",
      "94.% of all test points fall into 2*predicted std\n"
     ]
    }
   ],
   "source": [
    "#Let's see what percentage of test results falls into standard deviation\n",
    "g=np.abs(logprices_test-model.predict(features_test))<test_std_pred\n",
    "print(str((np.sum(g)/g.shape[0])*100)[0:3]+'% of all test points fall into predicted std')\n",
    "g=np.abs(logprices_test-model.predict(features_test))<2*test_std_pred\n",
    "print(str((np.sum(g)/g.shape[0])*100)[0:3]+'% of all test points fall into 2*predicted std')"
   ]
  }
 ],
 "metadata": {
  "kernelspec": {
   "display_name": "Python 3",
   "language": "python",
   "name": "python3"
  },
  "language_info": {
   "codemirror_mode": {
    "name": "ipython",
    "version": 3
   },
   "file_extension": ".py",
   "mimetype": "text/x-python",
   "name": "python",
   "nbconvert_exporter": "python",
   "pygments_lexer": "ipython3",
   "version": "3.6.5"
  }
 },
 "nbformat": 4,
 "nbformat_minor": 2
}
